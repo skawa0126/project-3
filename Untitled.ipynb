{
 "cells": [
  {
   "cell_type": "code",
   "execution_count": 1,
   "id": "24994c7c-4858-4e45-a9cb-efc7e73092fe",
   "metadata": {},
   "outputs": [],
   "source": [
    "import pandas as pd\n",
    "import sqlite3"
   ]
  },
  {
   "cell_type": "code",
   "execution_count": 15,
   "id": "58eed38f-0cdc-4560-9592-6332cc06b0ba",
   "metadata": {},
   "outputs": [],
   "source": [
    "# Import Excel data\n",
    "df_diabetes_ndc = pd.read_excel('Resources/diabetes-ndcs-wac-increases.xlsx')"
   ]
  },
  {
   "cell_type": "code",
   "execution_count": 17,
   "id": "ca292254-b88a-4a53-867f-bf7f0c8c7ceb",
   "metadata": {},
   "outputs": [],
   "source": [
    "# Clean up data\n",
    "df_diabetes_ndc = df.dropna()  # Remove rows with missing values\n",
    "df_diabetes_ndc = df.drop_duplicates()  # Remove duplicate rows"
   ]
  },
  {
   "cell_type": "code",
   "execution_count": 19,
   "id": "689f053e-54b1-4ddb-9cb6-5b4b0e45cb44",
   "metadata": {},
   "outputs": [
    {
     "name": "stdout",
     "output_type": "stream",
     "text": [
      "   Year   OSHPD ID Manufacturer Name Date Reported  NDC Number  \\\n",
      "0  2019  Rx0000033              Novo    03/31/2019   169406012   \n",
      "1  2019  Rx0000033              Novo    03/31/2019   169406013   \n",
      "2  2019  Rx0000015      AstraZeneca     03/31/2019   310620530   \n",
      "3  2019  Rx0000015      AstraZeneca     03/31/2019   310621030   \n",
      "4  2019  Rx0000015      AstraZeneca     03/31/2019   310625030   \n",
      "\n",
      "  Drug Product Description WAC Effective Date  WAC Increase Amount  \\\n",
      "0    Victoza? 6mg/mL 2x3mL         01/08/2019                34.26   \n",
      "1    Victoza? 6mg/mL 3x3mL         01/08/2019                51.39   \n",
      "2              Farxiga 5mg         01/01/2019                27.87   \n",
      "3             Farxiga 10mg         01/01/2019                27.87   \n",
      "4        Xigduo XR 5-500mg         01/01/2019                27.87   \n",
      "\n",
      "   WAC After Increase Patent Expiration Date  ... Company Acquired From  \\\n",
      "0              614.52             08/22/2022  ...                  None   \n",
      "1              921.78             08/22/2022  ...                  None   \n",
      "2              492.41             10/04/2025  ...  Bristol-Myers Squibb   \n",
      "3              492.41             10/04/2025  ...  Bristol-Myers Squibb   \n",
      "4              492.41             10/04/2025  ...                  None   \n",
      "\n",
      "   Acquisition Price  Acquisition Price Non-Public Indicator  \\\n",
      "0                NaN                                    None   \n",
      "1                NaN                                    None   \n",
      "2       2.700000e+09                                    None   \n",
      "3       2.700000e+09                                    None   \n",
      "4                NaN                                    None   \n",
      "\n",
      "                           Acquisition Price Comment  WAC at Acquisition  \\\n",
      "0                                               None                 NaN   \n",
      "1                                               None                 NaN   \n",
      "2  AstraZeneca paid Bristol-Myers Squibb $2.7 bil...               289.2   \n",
      "3  AstraZeneca paid Bristol-Myers Squibb $2.7 bil...               289.2   \n",
      "4                                               None                 NaN   \n",
      "\n",
      "  WAC Year Prior to Acquisition  Year Drug Introduced to Market  \\\n",
      "0                          None                             NaN   \n",
      "1                          None                             NaN   \n",
      "2                          None                          2014.0   \n",
      "3                          None                          2014.0   \n",
      "4                          None                             NaN   \n",
      "\n",
      "  WAC at Intro to Market Supporting Documents  \\\n",
      "0                    NaN                 None   \n",
      "1                    NaN                 None   \n",
      "2                  289.2                 None   \n",
      "3                  289.2                 None   \n",
      "4                    NaN                 None   \n",
      "\n",
      "                                    General Comments  \n",
      "0  NNI holds a number of patents related to Victo...  \n",
      "1  NNI holds a number of patents related to Victo...  \n",
      "2                                               None  \n",
      "3                                               None  \n",
      "4  AstraZeneca developed this NDC, it was not acq...  \n",
      "\n",
      "[5 rows x 28 columns]\n"
     ]
    }
   ],
   "source": [
    "# Create SQLite database connection\n",
    "conn = sqlite3.connect('cleaned_data.db')\n",
    "cursor = conn.cursor()\n",
    "\n",
    "# Create table in SQLite database\n",
    "cursor.execute('''\n",
    "    CREATE TABLE IF NOT EXISTS cleaned_data (\n",
    "        column1 TEXT,\n",
    "        column2 TEXT,\n",
    "        column3 INTEGER\n",
    "    )\n",
    "''')\n",
    "\n",
    "# Insert cleaned data into SQLite table\n",
    "df.to_sql('cleaned_data', conn, if_exists='replace', index=False)\n",
    "\n",
    "# Query to verify data import\n",
    "query = \"SELECT * FROM cleaned_data LIMIT 5\"\n",
    "result = pd.read_sql_query(query, conn)\n",
    "\n",
    "print(result)\n",
    "\n",
    "# Close database connection\n",
    "conn.close()"
   ]
  },
  {
   "cell_type": "code",
   "execution_count": null,
   "id": "cb0aacb2-b590-4219-9ee4-250926269004",
   "metadata": {},
   "outputs": [],
   "source": []
  }
 ],
 "metadata": {
  "kernelspec": {
   "display_name": "Python 3 (ipykernel)",
   "language": "python",
   "name": "python3"
  },
  "language_info": {
   "codemirror_mode": {
    "name": "ipython",
    "version": 3
   },
   "file_extension": ".py",
   "mimetype": "text/x-python",
   "name": "python",
   "nbconvert_exporter": "python",
   "pygments_lexer": "ipython3",
   "version": "3.12.4"
  }
 },
 "nbformat": 4,
 "nbformat_minor": 5
}
